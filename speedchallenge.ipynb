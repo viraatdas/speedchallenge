{
  "nbformat": 4,
  "nbformat_minor": 0,
  "metadata": {
    "colab": {
      "name": "speedchallenge.ipynb",
      "version": "0.3.2",
      "provenance": [],
      "include_colab_link": true
    },
    "kernelspec": {
      "name": "python3",
      "display_name": "Python 3"
    },
    "accelerator": "TPU"
  },
  "cells": [
    {
      "cell_type": "markdown",
      "metadata": {
        "id": "view-in-github",
        "colab_type": "text"
      },
      "source": [
        "<a href=\"https://colab.research.google.com/github/viraatdas/speedchallenge/blob/master/speedchallenge.ipynb\" target=\"_parent\"><img src=\"https://colab.research.google.com/assets/colab-badge.svg\" alt=\"Open In Colab\"/></a>"
      ]
    },
    {
      "metadata": {
        "id": "f5PkepVCKsox",
        "colab_type": "code",
        "outputId": "23b08d95-538f-43eb-8c6b-bb3fc0a4f930",
        "colab": {
          "base_uri": "https://localhost:8080/",
          "height": 34
        }
      },
      "cell_type": "code",
      "source": [
        "!git clone https://github.com/viraatdas/speedchallenge.git"
      ],
      "execution_count": 2,
      "outputs": [
        {
          "output_type": "stream",
          "text": [
            "fatal: destination path 'speedchallenge' already exists and is not an empty directory.\n"
          ],
          "name": "stdout"
        }
      ]
    },
    {
      "metadata": {
        "id": "3YSqNzFEK9vj",
        "colab_type": "code",
        "outputId": "d75d9b74-34e1-4403-ee22-02606c18fed1",
        "colab": {
          "base_uri": "https://localhost:8080/",
          "height": 34
        }
      },
      "cell_type": "code",
      "source": [
        "%cd speedchallenge/"
      ],
      "execution_count": 4,
      "outputs": [
        {
          "output_type": "stream",
          "text": [
            "/content/speedchallenge\n"
          ],
          "name": "stdout"
        }
      ]
    },
    {
      "metadata": {
        "id": "2AAzXQXvLLPv",
        "colab_type": "code",
        "outputId": "03f4fd2e-322e-4558-8738-1be746f6b8ac",
        "colab": {
          "base_uri": "https://localhost:8080/",
          "height": 224
        }
      },
      "cell_type": "code",
      "source": [
        "!pip install --upgrade opencv-python"
      ],
      "execution_count": 3,
      "outputs": [
        {
          "output_type": "stream",
          "text": [
            "Collecting opencv-python\n",
            "\u001b[?25l  Downloading https://files.pythonhosted.org/packages/37/49/874d119948a5a084a7ebe98308214098ef3471d76ab74200f9800efeef15/opencv_python-4.0.0.21-cp36-cp36m-manylinux1_x86_64.whl (25.4MB)\n",
            "\u001b[K    100% |████████████████████████████████| 25.4MB 1.3MB/s \n",
            "\u001b[?25hRequirement already satisfied, skipping upgrade: numpy>=1.11.3 in /usr/local/lib/python3.6/dist-packages (from opencv-python) (1.14.6)\n",
            "\u001b[31mimgaug 0.2.8 has requirement numpy>=1.15.0, but you'll have numpy 1.14.6 which is incompatible.\u001b[0m\n",
            "\u001b[31malbumentations 0.1.12 has requirement imgaug<0.2.7,>=0.2.5, but you'll have imgaug 0.2.8 which is incompatible.\u001b[0m\n",
            "Installing collected packages: opencv-python\n",
            "  Found existing installation: opencv-python 3.4.5.20\n",
            "    Uninstalling opencv-python-3.4.5.20:\n",
            "      Successfully uninstalled opencv-python-3.4.5.20\n",
            "Successfully installed opencv-python-4.0.0.21\n"
          ],
          "name": "stdout"
        }
      ]
    },
    {
      "metadata": {
        "id": "ZG6RYGmhLt2v",
        "colab_type": "code",
        "outputId": "2930b6f7-f595-456a-9242-a980aee36ece",
        "colab": {
          "base_uri": "https://localhost:8080/",
          "height": 34
        }
      },
      "cell_type": "code",
      "source": [
        "\n",
        "!pwd"
      ],
      "execution_count": 5,
      "outputs": [
        {
          "output_type": "stream",
          "text": [
            "/content/speedchallenge\n"
          ],
          "name": "stdout"
        }
      ]
    },
    {
      "metadata": {
        "id": "kHkkJU1dL78P",
        "colab_type": "code",
        "colab": {}
      },
      "cell_type": "code",
      "source": [
        "import cv2 as cv\n",
        "import numpy as np\n",
        "\n",
        "\n",
        "#Getting speed from the text file\n",
        "speed = []\n",
        "location = \"/content/speedchallenge/data/train.txt\"\n",
        "with open(location) as f:\n",
        "    speed = list(f)\n",
        "\n",
        "speed = [x.strip() for x in speed]\n",
        "iter_speed = iter(speed) #making the speed list an iterable\n",
        "\n",
        "# retrieving all frames from video and saving them in all_frames\n",
        "# all_frames[np.ndarry] = speed for that particular frame\n",
        "location = \"/content/speedchallenge/data/train.mp4\"\n",
        "cap = cv.VideoCapture(location)\n",
        "all_frames = []\n",
        "ret, frame1 = cap.read()\n",
        "i = 0\n",
        "while i < len(speed):\n",
        "    temp = []\n",
        "    temp.append(frame1)\n",
        "    try:\n",
        "        temp.append(float(next(iter_speed)))\n",
        "    except:\n",
        "        continue\n",
        "    all_frames.append(temp)\n",
        "    ret, frame1 = cap.read()\n",
        "    i+=1\n",
        "\n",
        "#applying Adaptive Guassian Thresholding to account for illumination changes\n",
        "i = 0\n",
        "while i < len(all_frames):\n",
        "    img = cv.cvtColor(all_frames[i][0], cv.COLOR_BGR2GRAY) #convert to grayscale\n",
        "    img = cv.medianBlur(img,5) #median blur\n",
        "\n",
        "    #After applying adaptive gaussian thresholding, saving it to all_frames\n",
        "    all_frames[i][0] = cv.adaptiveThreshold(img, 255, cv.ADAPTIVE_THRESH_GAUSSIAN_C, \\\n",
        "                                            cv.THRESH_BINARY, 11, 2)\n",
        "    i += 1\n",
        "\n",
        "\n",
        "\n",
        "#since video was analyze in pairs of successive frames\n",
        "#80% of the intitial frames were training\n",
        "#and 20% were used for validation\n",
        "eighty_percent = int(0.8*len(all_frames))\n",
        "training, validation = all_frames[:eighty_percent], all_frames[eighty_percent:]\n",
        "\n",
        "\n",
        "\n",
        "#Dense Optical Flow based on the Gunner Farneback's algorithm\n",
        "cap = cv.VideoCapture(location)\n",
        "ret, frame1 = cap.read()\n",
        "prvs = cv.cvtColor(frame1,cv.COLOR_BGR2GRAY)\n",
        "hsv = np.zeros_like(frame1)\n",
        "prvs = cv.cvtColor(frame1,cv.COLOR_BGR2GRAY)\n",
        "hsv[...,1] = 255\n",
        "\n",
        "i = 1\n",
        "while i < len(training):\n",
        "    next = training[i][0]\n",
        "\n",
        "    flow = cv.calcOpticalFlowFarneback(prvs,next, None, 0.5, 3, 15, 3, 5, 1.2, 0)\n",
        "\n",
        "    mag, ang = cv.cartToPolar(flow[...,0], flow[...,1])\n",
        "    hsv[...,0] = ang*180/np.pi/2\n",
        "    hsv[...,2] = cv.normalize(mag,None,0,255,cv.NORM_MINMAX)\n",
        "    bgr = cv.cvtColor(hsv,cv.COLOR_HSV2BGR)\n",
        "    cv.imshow('frame2',bgr)\n",
        "    k = cv.waitKey(30) & 0xff\n",
        "    if k == 27:\n",
        "        break\n",
        "    elif k == ord('s'):\n",
        "        cv.imwrite('opticalfb.png',training[i][0])\n",
        "        cv.imwrite('opticalhsv.png',bgr)\n",
        "    prvs = next\n",
        "    i += 1\n",
        "\n",
        "cap.release()\n",
        "cv.destroyAllWindows()\n"
      ],
      "execution_count": 0,
      "outputs": []
    }
  ]
}